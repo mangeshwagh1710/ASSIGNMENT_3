{
 "cells": [
  {
   "cell_type": "code",
   "execution_count": 1,
   "id": "b602f2d3",
   "metadata": {},
   "outputs": [
    {
     "name": "stdout",
     "output_type": "stream",
     "text": [
      "20\n"
     ]
    }
   ],
   "source": [
    "# A python function to sum all the numbers in a list.\n",
    "\n",
    "\n",
    "numbers=[8,2,3,0,7]\n",
    "def sum(numbers):\n",
    "    total =0\n",
    "    \n",
    "    for x in numbers:\n",
    "        \n",
    "        total += x\n",
    "            \n",
    "    return total\n",
    "\n",
    "print(sum((8,2,3,0,7)))\n",
    "    "
   ]
  },
  {
   "cell_type": "code",
   "execution_count": 2,
   "id": "c8f60124",
   "metadata": {},
   "outputs": [
    {
     "name": "stdout",
     "output_type": "stream",
     "text": [
      " dcba4321\n"
     ]
    }
   ],
   "source": [
    "# A python program to reverse a string.\n",
    "\n",
    "\n",
    "def string_reverse(str1):\n",
    "    \n",
    "    rstr1 =\" \"\n",
    "    index = len(str1)\n",
    "    while index > 0:\n",
    "        rstr1 += str1[index-1]\n",
    "        index = index-1\n",
    "    return rstr1\n",
    "print(string_reverse('1234abcd'))"
   ]
  },
  {
   "cell_type": "code",
   "execution_count": 3,
   "id": "2bebe0fa",
   "metadata": {},
   "outputs": [
    {
     "name": "stdout",
     "output_type": "stream",
     "text": [
      "Original String : The quick Brow Fox\n",
      "No of Upper case characters : 3\n",
      "No of Lower case characters : 12\n"
     ]
    }
   ],
   "source": [
    "# A python function that accepts a sting and calculate the number of uppercase & lower case letters.\n",
    "\n",
    "def string_test(s):\n",
    "        d={\"UPPER_CASE\":0, \"LOWER_CASE\":0}\n",
    "        for c in s:\n",
    "            if c.isupper():\n",
    "                d[\"UPPER_CASE\"]+=1\n",
    "            elif c.islower():\n",
    "                d[\"LOWER_CASE\"]+=1\n",
    "            else:\n",
    "                pass\n",
    "        print(\"Original String :\",s)\n",
    "        print(\"No of Upper case characters :\",d[\"UPPER_CASE\"])\n",
    "        print(\"No of Lower case characters :\",d[\"LOWER_CASE\"])\n",
    "string_test('The quick Brow Fox')"
   ]
  },
  {
   "cell_type": "code",
   "execution_count": null,
   "id": "e1de3b4a",
   "metadata": {},
   "outputs": [],
   "source": []
  }
 ],
 "metadata": {
  "kernelspec": {
   "display_name": "Python 3 (ipykernel)",
   "language": "python",
   "name": "python3"
  },
  "language_info": {
   "codemirror_mode": {
    "name": "ipython",
    "version": 3
   },
   "file_extension": ".py",
   "mimetype": "text/x-python",
   "name": "python",
   "nbconvert_exporter": "python",
   "pygments_lexer": "ipython3",
   "version": "3.9.13"
  }
 },
 "nbformat": 4,
 "nbformat_minor": 5
}
